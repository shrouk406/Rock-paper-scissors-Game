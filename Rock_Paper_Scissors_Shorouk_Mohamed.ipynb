{
 "cells": [
  {
   "cell_type": "markdown",
   "metadata": {},
   "source": [
    "### Description \n",
    "> #### In this game, the user gets the first chance to pick the option among Rock, paper and scissors. After that computer select from the remaining two choices(randomly), the winner is decided as per the rules.\n",
    "- Rock vs paper-> paper wins\n",
    "- Rock vs scissors -> Rock wins\n",
    "- paper vs scissors -> scissors wins."
   ]
  },
  {
   "cell_type": "code",
   "execution_count": 1,
   "metadata": {},
   "outputs": [],
   "source": [
    "#steps\n",
    "# 1. import random //\n",
    "# 2. ask the user for input //\n",
    "# 3. let the computer make a random choice //\n",
    "# 4. compare the choices and handle all the cases //\n",
    "# 5. show the result \"score\" //\n",
    "# 6. more than one round //\n",
    "# 7. handle errors //\n",
    "# 8. test //\n",
    "# 9. Add comments //"
   ]
  },
  {
   "cell_type": "code",
   "execution_count": 2,
   "metadata": {},
   "outputs": [
    {
     "name": "stdout",
     "output_type": "stream",
     "text": [
      "Requirement already satisfied: art in c:\\users\\shrouk\\new folder\\envs\\machine_learning\\lib\\site-packages (6.4)\n"
     ]
    }
   ],
   "source": [
    "#!pip install art"
   ]
  },
  {
   "cell_type": "code",
   "execution_count": 1,
   "metadata": {},
   "outputs": [],
   "source": [
    "#import random module\n",
    "import random \n",
    "#import art module \"extra feature to print a fancy result\"\n",
    "import art"
   ]
  },
  {
   "cell_type": "code",
   "execution_count": 2,
   "metadata": {},
   "outputs": [],
   "source": [
    "# define a function for the game\n",
    "def rock_paper_scissors():\n",
    "    \n",
    "    \"\"\"\n",
    "    \n",
    "    a function that handles playing rock, paper, scissors smoothly\n",
    "    \n",
    "    Author:\n",
    "        Shorouk Mohamed\n",
    "    \n",
    "    \"\"\"\n",
    "    \n",
    "    # print the welcome message\n",
    "    print(\"------------------ Welcome To Rock, Paper, Scissors Game ------------------\")\n",
    "\n",
    "    #looping through the user input to ensure that the data type is correct \"string\"\n",
    "    while True:\n",
    "        pl_name = input('Please enter your name: ')\n",
    "        if pl_name.isalpha():\n",
    "            print(f\"Welcome {pl_name}, have a nice round!\")\n",
    "            break\n",
    "        else:\n",
    "            print('Invalid, You MUST ENTER ONLY Letters')\n",
    "            \n",
    "    #instead of adding a specific number of rounds, I let the user choose the number of rounds\n",
    "    #looping through the user input to ensure that the data type is correct \"int\"\n",
    "    while True:   \n",
    "        try:\n",
    "            number_of_rounds = int(input('How many rounds you want to play with the computer?'))\n",
    "\n",
    "            # raising an error to ensure that the number of rounds is > 0\n",
    "            if number_of_rounds < 0 or number_of_rounds == 0:\n",
    "                raise ValueError(\"You MUST ENTER A POSITIVE NUMBER\")\n",
    "            break\n",
    "            \n",
    "        except ValueError:\n",
    "            print('Invalid, You MUST ENTER ONLY Integer Positive NUMBERS')\n",
    "\n",
    "\n",
    "    #printing a list of options to let the user choose from\n",
    "    print(\"The options are:\\n1 - Rock\\n2 - Paper\\n3 - Scissors\")\n",
    "\n",
    "    #define score variables\n",
    "    cm_score = 0\n",
    "    pl_score = 0\n",
    "\n",
    "    #looping till the number of rounds added from the user \n",
    "    i = 1\n",
    "    while i <= number_of_rounds:\n",
    "        #asking for the player's choice first\n",
    "        pl_choice = input('write your choice from the previous list: ')\n",
    "\n",
    "        #use random module to let the computer make a choice\n",
    "        options = ['rock', 'paper', 'scissors']\n",
    "        computer_choice = random.choice(options)\n",
    "\n",
    "        #comparing the player's choice with the computer's choice \n",
    "        # 1st case: Draw \"instead of letting the computer choose from the remaining\"\n",
    "        if computer_choice.lower() == pl_choice.lower():\n",
    "            #print(\"OOOOOPS - Draw\")\n",
    "            print(f\"Computer's choice is {computer_choice} and You chose {pl_choice}\")\n",
    "            print(f\"Computer's Score is {cm_score} and {pl_name}'s Score is {pl_score}\")\n",
    "\n",
    "        # 2nd case\n",
    "        elif computer_choice.lower() == 'rock' and pl_choice.lower() == 'paper':\n",
    "            pl_score += 1\n",
    "            print(f'Computer\\'s Choice is {computer_choice} and your choice is {pl_choice}')\n",
    "            print(f\"Computer's Score is {cm_score} and {pl_name}'s Score is {pl_score}\")\n",
    "\n",
    "        # 3rd case\n",
    "        elif computer_choice.lower() == 'rock' and pl_choice.lower() == 'scissors':\n",
    "            cm_score += 1\n",
    "            print(f'Computer\\'s Choice is {computer_choice} and your choice is {pl_choice}')\n",
    "            print(f\"Computer's Score is {cm_score} and {pl_name}'s Score is {pl_score}\")\n",
    "\n",
    "        # 4th case\n",
    "        elif computer_choice.lower() == 'paper' and pl_choice.lower() == 'rock':\n",
    "            cm_score += 1\n",
    "            print(f'Computer\\'s Choice is {computer_choice} and your choice is {pl_choice}')\n",
    "            print(f\"Computer's Score is {cm_score} and {pl_name}'s Score is {pl_score}\")\n",
    "\n",
    "        # 5th case\n",
    "        elif computer_choice.lower() == 'paper' and pl_choice.lower() == 'scissors':\n",
    "            pl_score += 1\n",
    "            print(f'Computer\\'s Choice is {computer_choice} and your choice is {pl_choice}')\n",
    "            print(f\"Computer's Score is {cm_score} and {pl_name}'s Score is {pl_score}\")\n",
    "            \n",
    "        # 6th case\n",
    "        elif computer_choice.lower() == 'scissors' and pl_choice.lower() == 'rock':\n",
    "            pl_score += 1\n",
    "            print(f'Computer\\'s Choice is {computer_choice} and your choice is {pl_choice}')\n",
    "            print(f\"Computer's Score is {cm_score} and {pl_name}'s Score is {pl_score}\")\n",
    "\n",
    "        # 7th case\n",
    "        elif computer_choice.lower() == 'scissors' and pl_choice.lower() == 'paper':\n",
    "            cm_score += 1\n",
    "            print(f'Computer\\'s Choice is {computer_choice} and your choice is {pl_choice}')\n",
    "            print(f\"Computer's Score is {cm_score} and {pl_name}'s Score is {pl_score}\")\n",
    "\n",
    "        # 8th case: last case will be executed when the user enter invalid option\n",
    "        else:\n",
    "            print(\"Invalid Choice!, TRY AGAIN PLEASE.\")\n",
    "           \n",
    "        result = ''\n",
    "        #showing the total score for each depended on all the rounds score\n",
    "        if i == number_of_rounds:\n",
    "\n",
    "            # 1st case: when the computer's total score is higher\n",
    "            if cm_score > pl_score:\n",
    "                result = art.text2art(\"OOPS, You Lost\")\n",
    "                print(f\"{result}\\nComputer's TOTAL Score is {cm_score} and {pl_name}'s TOTAL Score is {pl_score}\")\n",
    "\n",
    "            # 2nd case: when the player's total score is higher\n",
    "            elif cm_score < pl_score:\n",
    "                result = art.text2art(\"Yaaaay, you won\")\n",
    "                print(f\"{result}\\nComputer's TOTAL Score is {cm_score} and {pl_name}'s TOTAL Score is {pl_score}\")\n",
    "\n",
    "            # 3rd case: when the computer's total score equals the player's total score\n",
    "            else:\n",
    "                result = art.text2art(\"OOOOOPS - Draw\")\n",
    "                print(f\"{result}\\nComputer's TOTAL Score is {cm_score} and {pl_name}'s TOTAL Score is {pl_score}\")\n",
    "                \n",
    "        # main loop increment\n",
    "        i += 1    \n",
    "     "
   ]
  },
  {
   "cell_type": "code",
   "execution_count": 4,
   "metadata": {},
   "outputs": [
    {
     "name": "stdout",
     "output_type": "stream",
     "text": [
      "------------------ Welcome To Rock, Paper, Scissors Game ------------------\n"
     ]
    },
    {
     "name": "stdin",
     "output_type": "stream",
     "text": [
      "Please enter your name:  shorouk\n"
     ]
    },
    {
     "name": "stdout",
     "output_type": "stream",
     "text": [
      "Welcome shorouk, have a nice round!\n"
     ]
    },
    {
     "name": "stdin",
     "output_type": "stream",
     "text": [
      "How many rounds you want to play with the computer? 3\n"
     ]
    },
    {
     "name": "stdout",
     "output_type": "stream",
     "text": [
      "The options are:\n",
      "1 - Rock\n",
      "2 - Paper\n",
      "3 - Scissors\n"
     ]
    },
    {
     "name": "stdin",
     "output_type": "stream",
     "text": [
      "write your choice from the previous list:  rock\n"
     ]
    },
    {
     "name": "stdout",
     "output_type": "stream",
     "text": [
      "Computer's choice is rock and You chose rock\n",
      "Computer's Score is 0 and shorouk's Score is 0\n"
     ]
    },
    {
     "name": "stdin",
     "output_type": "stream",
     "text": [
      "write your choice from the previous list:  paper\n"
     ]
    },
    {
     "name": "stdout",
     "output_type": "stream",
     "text": [
      "Computer's choice is paper and You chose paper\n",
      "Computer's Score is 0 and shorouk's Score is 0\n"
     ]
    },
    {
     "name": "stdin",
     "output_type": "stream",
     "text": [
      "write your choice from the previous list:  scissors\n"
     ]
    },
    {
     "name": "stdout",
     "output_type": "stream",
     "text": [
      "Computer's Choice is paper and your choice is scissors\n",
      "Computer's Score is 0 and shorouk's Score is 1\n",
      "__   __                                                                                     \n",
      "\\ \\ / /  __ _   __ _   __ _   __ _  _   _      _   _   ___   _   _  __      __  ___   _ __  \n",
      " \\ V /  / _` | / _` | / _` | / _` || | | |    | | | | / _ \\ | | | | \\ \\ /\\ / / / _ \\ | '_ \\ \n",
      "  | |  | (_| || (_| || (_| || (_| || |_| | _  | |_| || (_) || |_| |  \\ V  V / | (_) || | | |\n",
      "  |_|   \\__,_| \\__,_| \\__,_| \\__,_| \\__, |( )  \\__, | \\___/  \\__,_|   \\_/\\_/   \\___/ |_| |_|\n",
      "                                    |___/ |/   |___/                                        \n",
      "\n",
      "Computer's TOTAL Score is 0 and shorouk's TOTAL Score is 1\n"
     ]
    }
   ],
   "source": [
    "rock_paper_scissors()"
   ]
  },
  {
   "cell_type": "code",
   "execution_count": 6,
   "metadata": {},
   "outputs": [
    {
     "name": "stdout",
     "output_type": "stream",
     "text": [
      "\n",
      "    \n",
      "    a function that handles playing rock, paper, scissors smoothly\n",
      "    \n",
      "    Author:\n",
      "        Shorouk Mohamed\n",
      "    \n",
      "    \n"
     ]
    }
   ],
   "source": [
    "print(rock_paper_scissors.__doc__)"
   ]
  },
  {
   "cell_type": "code",
   "execution_count": null,
   "metadata": {},
   "outputs": [],
   "source": []
  },
  {
   "cell_type": "code",
   "execution_count": null,
   "metadata": {},
   "outputs": [],
   "source": []
  }
 ],
 "metadata": {
  "kernelspec": {
   "display_name": "Python 3 (ipykernel)",
   "language": "python",
   "name": "python3"
  },
  "language_info": {
   "codemirror_mode": {
    "name": "ipython",
    "version": 3
   },
   "file_extension": ".py",
   "mimetype": "text/x-python",
   "name": "python",
   "nbconvert_exporter": "python",
   "pygments_lexer": "ipython3",
   "version": "3.12.5"
  }
 },
 "nbformat": 4,
 "nbformat_minor": 4
}
